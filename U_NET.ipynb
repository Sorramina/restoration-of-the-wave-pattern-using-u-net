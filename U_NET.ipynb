{
  "nbformat": 4,
  "nbformat_minor": 0,
  "metadata": {
    "colab": {
      "provenance": [],
      "gpuType": "T4",
      "include_colab_link": true
    },
    "kernelspec": {
      "name": "python3",
      "display_name": "Python 3"
    },
    "language_info": {
      "name": "python"
    },
    "accelerator": "GPU"
  },
  "cells": [
    {
      "cell_type": "markdown",
      "metadata": {
        "id": "view-in-github",
        "colab_type": "text"
      },
      "source": [
        "<a href=\"https://colab.research.google.com/github/Grystniu/U-net-restoration/blob/main/U_NET.ipynb\" target=\"_parent\"><img src=\"https://colab.research.google.com/assets/colab-badge.svg\" alt=\"Open In Colab\"/></a>"
      ]
    },
    {
      "cell_type": "code",
      "source": [
        "# !pip install unrar"
      ],
      "metadata": {
        "id": "D6ES14M87QSG"
      },
      "execution_count": null,
      "outputs": []
    },
    {
      "cell_type": "code",
      "source": [
        "!unzip /content/result_x.zip"
      ],
      "metadata": {
        "id": "qMFvwo4ieIPa"
      },
      "execution_count": null,
      "outputs": []
    },
    {
      "cell_type": "code",
      "source": [
        "!unzip /content/result_y.zip"
      ],
      "metadata": {
        "id": "TGuT6mlEfFHr"
      },
      "execution_count": null,
      "outputs": []
    },
    {
      "cell_type": "code",
      "source": [
        "!unzip /content/result_y_new.zip"
      ],
      "metadata": {
        "id": "kiQwtGPzlvvS"
      },
      "execution_count": null,
      "outputs": []
    },
    {
      "cell_type": "code",
      "source": [
        "!unzip /content/result_x_new.zip"
      ],
      "metadata": {
        "id": "PCAA0-aQlxtz"
      },
      "execution_count": null,
      "outputs": []
    },
    {
      "cell_type": "code",
      "execution_count": null,
      "metadata": {
        "id": "UxgXBLbUuDDN"
      },
      "outputs": [],
      "source": [
        "import sys\n",
        "sys.path.append('/content/modules.py')\n",
        "from modules import *"
      ]
    },
    {
      "cell_type": "code",
      "execution_count": null,
      "metadata": {
        "id": "OdfUmYiouQH5"
      },
      "outputs": [],
      "source": [
        "from keras.models import Model\n",
        "from keras.layers import Input, Conv2D, MaxPooling2D, UpSampling2D, Concatenate\n",
        "\n",
        "def U_Net(input_size, input_channels, filters, learning_rate):\n",
        "    X = Input(shape=(input_size, input_size, input_channels))\n",
        "\n",
        "    # Encoder\n",
        "    conv1 = Conv2D(64, 3, activation='relu', padding='same')(X)\n",
        "    conv1 = Conv2D(64, 3, activation='relu', padding='same')(conv1)\n",
        "    pool1 = MaxPooling2D(pool_size=(2, 2))(conv1)\n",
        "\n",
        "    conv2 = Conv2D(128, 3, activation='relu', padding='same')(pool1)\n",
        "    conv2 = Conv2D(128, 3, activation='relu', padding='same')(conv2)\n",
        "    pool2 = MaxPooling2D(pool_size=(2, 2))(conv2)\n",
        "\n",
        "    # Bottleneck\n",
        "    conv3 = Conv2D(256, 3, activation='relu', padding='same')(pool2)\n",
        "    conv3 = Conv2D(256, 3, activation='relu', padding='same')(conv3)\n",
        "\n",
        "    # Decoder\n",
        "    up4 = Concatenate()([UpSampling2D(size=(2, 2))(conv3), conv2])\n",
        "    conv4 = Conv2D(128, 3, activation='relu', padding='same')(up4)\n",
        "    conv4 = Conv2D(128, 3, activation='relu', padding='same')(conv4)\n",
        "\n",
        "    up5 = Concatenate()([UpSampling2D(size=(2, 2))(conv4), conv1])\n",
        "    conv5 = Conv2D(64, 3, activation='relu', padding='same')(up5)\n",
        "    conv5 = Conv2D(64, 3, activation='relu', padding='same')(conv5)\n",
        "\n",
        "    outputs = Conv2D(1, 1, activation='sigmoid')(conv5)\n",
        "\n",
        "    model = Model(inputs=X, outputs=outputs)\n",
        "    model.compile(optimizer='adam', loss='mean_squared_error')\n",
        "\n",
        "    return model"
      ]
    },
    {
      "cell_type": "code",
      "execution_count": null,
      "metadata": {
        "id": "0Beo-NF_vJE4"
      },
      "outputs": [],
      "source": [
        "path2 = '/content/result_x'\n",
        "path = '/content/result_y'\n",
        "train_set_X, train_set_Y, val_set_X, val_set_Y, test_set_X, test_set_Y = read_data(path, path2)"
      ]
    },
    {
      "cell_type": "code",
      "source": [
        "unet = load_unet()"
      ],
      "metadata": {
        "id": "tCSDW4A6-gPM"
      },
      "execution_count": null,
      "outputs": []
    },
    {
      "cell_type": "code",
      "execution_count": null,
      "metadata": {
        "id": "H9DUYJDQu-JR"
      },
      "outputs": [],
      "source": [
        "unet = U_Net(input_size=128, input_channels=1, filters=64, learning_rate=0.001)\n",
        "history = unet.fit(x=train_set_X, y=train_set_Y, validation_data=(val_set_X, val_set_Y), batch_size=32, epochs=15)"
      ]
    },
    {
      "cell_type": "code",
      "execution_count": null,
      "metadata": {
        "id": "MW6bantGybi5"
      },
      "outputs": [],
      "source": [
        "import tensorflow as tf\n",
        "y_pred = unet.predict(test_set_X)\n",
        "print('average SSIM of U-Net on the testing set: {}'.format(tf.math.reduce_mean(tf.image.ssim(test_set_Y, y_pred, 1.)).numpy()))\n",
        "# Выводим несколько результатов выходных данных U-Net с обучающей выборки\n",
        "print_model_outputs(unet, train_set_X[:4], train_set_Y[:4], 'Training Data')\n",
        "\n",
        "# Выводим несколько результатов выходных данных U-Net с валидационной выборки\n",
        "print_model_outputs(unet, val_set_X[:4], val_set_Y[:4], 'Validation Data')\n",
        "\n",
        "# Выводим несколько результатов выходных данных U-Net с тестовой выборки\n",
        "print_model_outputs(unet, test_set_X[:4], test_set_Y[:4], 'Testing Data')"
      ]
    },
    {
      "cell_type": "code",
      "source": [
        "plt.plot(history.history['loss'], label='Train Loss')\n",
        "plt.plot(history.history['val_loss'], label='Validation Loss')\n",
        "plt.title('Training and Validation Loss')\n",
        "plt.xlabel('Epoch')\n",
        "plt.ylabel('Loss')\n",
        "plt.legend()\n",
        "plt.show()"
      ],
      "metadata": {
        "id": "20onn-hfL9RZ"
      },
      "execution_count": null,
      "outputs": []
    },
    {
      "cell_type": "code",
      "source": [
        "pred_new = read_new_images('/content/result_x_new')\n",
        "pred_origin = read_new_images('/content/result_y_new')\n",
        "My_predictions = unet.predict(pred_new)"
      ],
      "metadata": {
        "id": "vPTW_QeUGoxp"
      },
      "execution_count": null,
      "outputs": []
    },
    {
      "cell_type": "code",
      "source": [
        "print('average SSIM of U-Net on the testing set: {}'.format(tf.math.reduce_mean(tf.image.ssim(pred_origin, My_predictions, 1.)).numpy()))"
      ],
      "metadata": {
        "id": "5RqLq-mwKCY5"
      },
      "execution_count": null,
      "outputs": []
    },
    {
      "cell_type": "code",
      "source": [
        "# Выводим несколько результатов выходных данных U-Net с тестовой выборки\n",
        "print_model_outputs(unet, pred_new, pred_origin, 'New_prediction')"
      ],
      "metadata": {
        "id": "LNB3eqXTJzkq"
      },
      "execution_count": null,
      "outputs": []
    },
    {
      "cell_type": "code",
      "source": [
        "save_unet(unet)"
      ],
      "metadata": {
        "id": "mmu5aiHynLv7"
      },
      "execution_count": null,
      "outputs": []
    },
    {
      "cell_type": "code",
      "source": [
        "source_folder = '/content/wl'\n",
        "destination_folder = '/content/wlresult'\n",
        "model = load\n",
        "processed_images = read_single_image_and_save(source_folder, destination_folder, model=model)\n",
        "import os\n",
        "import shutil\n",
        "\n",
        "source_folder = '/content/wlresult'\n",
        "\n",
        "temp_folder = '/content/temp_archive'\n",
        "os.makedirs(temp_folder, exist_ok=True)\n",
        "\n",
        "for file_name in os.listdir(source_folder):\n",
        "    file_path = os.path.join(source_folder, file_name)\n",
        "    if os.path.isfile(file_path):\n",
        "        shutil.copy(file_path, temp_folder)\n",
        "\n",
        "shutil.make_archive('/content/temp_archive', 'zip', temp_folder)\n",
        "\n",
        "print(\"Архив создан.\")\n",
        "\n",
        "shutil.move('/content/temp_archive.zip','/content/temp_archive.zip' )\n",
        "\n",
        "shutil.rmtree(temp_folder)"
      ],
      "metadata": {
        "id": "K2pIpLWPVsyI"
      },
      "execution_count": null,
      "outputs": []
    }
  ]
}